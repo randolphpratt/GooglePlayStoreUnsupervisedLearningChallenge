{
 "cells": [
  {
   "cell_type": "code",
   "execution_count": 1,
   "metadata": {},
   "outputs": [],
   "source": [
    "import numpy as np\n",
    "import matplotlib.pyplot as plt\n",
    "import sklearn\n",
    "import pandas as pd\n",
    "%matplotlib inline\n"
   ]
  },
  {
   "cell_type": "code",
   "execution_count": 2,
   "metadata": {},
   "outputs": [],
   "source": [
    "df = pd.read_csv('appstore_games.csv')"
   ]
  },
  {
   "cell_type": "code",
   "execution_count": 3,
   "metadata": {},
   "outputs": [
    {
     "data": {
      "text/html": [
       "<div>\n",
       "<style scoped>\n",
       "    .dataframe tbody tr th:only-of-type {\n",
       "        vertical-align: middle;\n",
       "    }\n",
       "\n",
       "    .dataframe tbody tr th {\n",
       "        vertical-align: top;\n",
       "    }\n",
       "\n",
       "    .dataframe thead th {\n",
       "        text-align: right;\n",
       "    }\n",
       "</style>\n",
       "<table border=\"1\" class=\"dataframe\">\n",
       "  <thead>\n",
       "    <tr style=\"text-align: right;\">\n",
       "      <th></th>\n",
       "      <th>URL</th>\n",
       "      <th>ID</th>\n",
       "      <th>Name</th>\n",
       "      <th>Subtitle</th>\n",
       "      <th>Icon URL</th>\n",
       "      <th>Average User Rating</th>\n",
       "      <th>User Rating Count</th>\n",
       "      <th>Price</th>\n",
       "      <th>In-app Purchases</th>\n",
       "      <th>Description</th>\n",
       "      <th>Developer</th>\n",
       "      <th>Age Rating</th>\n",
       "      <th>Languages</th>\n",
       "      <th>Size</th>\n",
       "      <th>Primary Genre</th>\n",
       "      <th>Genres</th>\n",
       "      <th>Original Release Date</th>\n",
       "      <th>Current Version Release Date</th>\n",
       "    </tr>\n",
       "  </thead>\n",
       "  <tbody>\n",
       "    <tr>\n",
       "      <th>0</th>\n",
       "      <td>https://apps.apple.com/us/app/sudoku/id284921427</td>\n",
       "      <td>284921427</td>\n",
       "      <td>Sudoku</td>\n",
       "      <td>NaN</td>\n",
       "      <td>https://is2-ssl.mzstatic.com/image/thumb/Purpl...</td>\n",
       "      <td>4.0</td>\n",
       "      <td>3553.0</td>\n",
       "      <td>2.99</td>\n",
       "      <td>NaN</td>\n",
       "      <td>Join over 21,000,000 of our fans and download ...</td>\n",
       "      <td>Mighty Mighty Good Games</td>\n",
       "      <td>4+</td>\n",
       "      <td>DA, NL, EN, FI, FR, DE, IT, JA, KO, NB, PL, PT...</td>\n",
       "      <td>15853568.0</td>\n",
       "      <td>Games</td>\n",
       "      <td>Games, Strategy, Puzzle</td>\n",
       "      <td>11/07/2008</td>\n",
       "      <td>30/05/2017</td>\n",
       "    </tr>\n",
       "    <tr>\n",
       "      <th>1</th>\n",
       "      <td>https://apps.apple.com/us/app/reversi/id284926400</td>\n",
       "      <td>284926400</td>\n",
       "      <td>Reversi</td>\n",
       "      <td>NaN</td>\n",
       "      <td>https://is4-ssl.mzstatic.com/image/thumb/Purpl...</td>\n",
       "      <td>3.5</td>\n",
       "      <td>284.0</td>\n",
       "      <td>1.99</td>\n",
       "      <td>NaN</td>\n",
       "      <td>The classic game of Reversi, also known as Oth...</td>\n",
       "      <td>Kiss The Machine</td>\n",
       "      <td>4+</td>\n",
       "      <td>EN</td>\n",
       "      <td>12328960.0</td>\n",
       "      <td>Games</td>\n",
       "      <td>Games, Strategy, Board</td>\n",
       "      <td>11/07/2008</td>\n",
       "      <td>17/05/2018</td>\n",
       "    </tr>\n",
       "    <tr>\n",
       "      <th>2</th>\n",
       "      <td>https://apps.apple.com/us/app/morocco/id284946595</td>\n",
       "      <td>284946595</td>\n",
       "      <td>Morocco</td>\n",
       "      <td>NaN</td>\n",
       "      <td>https://is5-ssl.mzstatic.com/image/thumb/Purpl...</td>\n",
       "      <td>3.0</td>\n",
       "      <td>8376.0</td>\n",
       "      <td>0.00</td>\n",
       "      <td>NaN</td>\n",
       "      <td>Play the classic strategy game Othello (also k...</td>\n",
       "      <td>Bayou Games</td>\n",
       "      <td>4+</td>\n",
       "      <td>EN</td>\n",
       "      <td>674816.0</td>\n",
       "      <td>Games</td>\n",
       "      <td>Games, Board, Strategy</td>\n",
       "      <td>11/07/2008</td>\n",
       "      <td>5/09/2017</td>\n",
       "    </tr>\n",
       "    <tr>\n",
       "      <th>3</th>\n",
       "      <td>https://apps.apple.com/us/app/sudoku-free/id28...</td>\n",
       "      <td>285755462</td>\n",
       "      <td>Sudoku (Free)</td>\n",
       "      <td>NaN</td>\n",
       "      <td>https://is3-ssl.mzstatic.com/image/thumb/Purpl...</td>\n",
       "      <td>3.5</td>\n",
       "      <td>190394.0</td>\n",
       "      <td>0.00</td>\n",
       "      <td>NaN</td>\n",
       "      <td>Top 100 free app for over a year.\\nRated \"Best...</td>\n",
       "      <td>Mighty Mighty Good Games</td>\n",
       "      <td>4+</td>\n",
       "      <td>DA, NL, EN, FI, FR, DE, IT, JA, KO, NB, PL, PT...</td>\n",
       "      <td>21552128.0</td>\n",
       "      <td>Games</td>\n",
       "      <td>Games, Strategy, Puzzle</td>\n",
       "      <td>23/07/2008</td>\n",
       "      <td>30/05/2017</td>\n",
       "    </tr>\n",
       "    <tr>\n",
       "      <th>4</th>\n",
       "      <td>https://apps.apple.com/us/app/senet-deluxe/id2...</td>\n",
       "      <td>285831220</td>\n",
       "      <td>Senet Deluxe</td>\n",
       "      <td>NaN</td>\n",
       "      <td>https://is1-ssl.mzstatic.com/image/thumb/Purpl...</td>\n",
       "      <td>3.5</td>\n",
       "      <td>28.0</td>\n",
       "      <td>2.99</td>\n",
       "      <td>NaN</td>\n",
       "      <td>\"Senet Deluxe - The Ancient Game of Life and A...</td>\n",
       "      <td>RoGame Software</td>\n",
       "      <td>4+</td>\n",
       "      <td>DA, NL, EN, FR, DE, EL, IT, JA, KO, NO, PT, RU...</td>\n",
       "      <td>34689024.0</td>\n",
       "      <td>Games</td>\n",
       "      <td>Games, Strategy, Board, Education</td>\n",
       "      <td>18/07/2008</td>\n",
       "      <td>22/07/2018</td>\n",
       "    </tr>\n",
       "    <tr>\n",
       "      <th>5</th>\n",
       "      <td>https://apps.apple.com/us/app/sudoku-classic-n...</td>\n",
       "      <td>286210009</td>\n",
       "      <td>Sudoku - Classic number puzzle</td>\n",
       "      <td>Original brain training</td>\n",
       "      <td>https://is1-ssl.mzstatic.com/image/thumb/Purpl...</td>\n",
       "      <td>3.0</td>\n",
       "      <td>47.0</td>\n",
       "      <td>0.00</td>\n",
       "      <td>1.99</td>\n",
       "      <td>Sudoku will tease your brain, challenge you or...</td>\n",
       "      <td>OutOfTheBit Ltd</td>\n",
       "      <td>4+</td>\n",
       "      <td>EN</td>\n",
       "      <td>48672768.0</td>\n",
       "      <td>Games</td>\n",
       "      <td>Games, Entertainment, Strategy, Puzzle</td>\n",
       "      <td>30/07/2008</td>\n",
       "      <td>29/04/2019</td>\n",
       "    </tr>\n",
       "    <tr>\n",
       "      <th>6</th>\n",
       "      <td>https://apps.apple.com/us/app/gravitation/id28...</td>\n",
       "      <td>286313771</td>\n",
       "      <td>Gravitation</td>\n",
       "      <td>NaN</td>\n",
       "      <td>https://is5-ssl.mzstatic.com/image/thumb/Purpl...</td>\n",
       "      <td>2.5</td>\n",
       "      <td>35.0</td>\n",
       "      <td>0.00</td>\n",
       "      <td>NaN</td>\n",
       "      <td>\"Gravitation is a new implementation of the pu...</td>\n",
       "      <td>Robert Farnum</td>\n",
       "      <td>4+</td>\n",
       "      <td>NaN</td>\n",
       "      <td>6328320.0</td>\n",
       "      <td>Games</td>\n",
       "      <td>Games, Entertainment, Puzzle, Strategy</td>\n",
       "      <td>30/07/2008</td>\n",
       "      <td>14/11/2013</td>\n",
       "    </tr>\n",
       "    <tr>\n",
       "      <th>7</th>\n",
       "      <td>https://apps.apple.com/us/app/colony/id286363959</td>\n",
       "      <td>286363959</td>\n",
       "      <td>Colony</td>\n",
       "      <td>NaN</td>\n",
       "      <td>https://is5-ssl.mzstatic.com/image/thumb/Purpl...</td>\n",
       "      <td>2.5</td>\n",
       "      <td>125.0</td>\n",
       "      <td>0.99</td>\n",
       "      <td>NaN</td>\n",
       "      <td>\"50 levels of addictive puzzling strategy fun!...</td>\n",
       "      <td>Chris Haynes</td>\n",
       "      <td>4+</td>\n",
       "      <td>EN</td>\n",
       "      <td>64333824.0</td>\n",
       "      <td>Games</td>\n",
       "      <td>Games, Strategy, Board</td>\n",
       "      <td>3/08/2008</td>\n",
       "      <td>3/10/2018</td>\n",
       "    </tr>\n",
       "    <tr>\n",
       "      <th>8</th>\n",
       "      <td>https://apps.apple.com/us/app/carte/id286566987</td>\n",
       "      <td>286566987</td>\n",
       "      <td>Carte</td>\n",
       "      <td>NaN</td>\n",
       "      <td>https://is3-ssl.mzstatic.com/image/thumb/Purpl...</td>\n",
       "      <td>2.5</td>\n",
       "      <td>44.0</td>\n",
       "      <td>0.00</td>\n",
       "      <td>NaN</td>\n",
       "      <td>\"Jeu simple qui consiste \\xe0 trouver comment ...</td>\n",
       "      <td>Jean-Francois Pautex</td>\n",
       "      <td>4+</td>\n",
       "      <td>FR</td>\n",
       "      <td>2657280.0</td>\n",
       "      <td>Games</td>\n",
       "      <td>Games, Strategy, Board, Entertainment</td>\n",
       "      <td>3/08/2008</td>\n",
       "      <td>23/11/2017</td>\n",
       "    </tr>\n",
       "    <tr>\n",
       "      <th>9</th>\n",
       "      <td>https://apps.apple.com/us/app/barrels-o-fun/id...</td>\n",
       "      <td>286682679</td>\n",
       "      <td>\"Barrels O' Fun\"</td>\n",
       "      <td>NaN</td>\n",
       "      <td>https://is4-ssl.mzstatic.com/image/thumb/Purpl...</td>\n",
       "      <td>2.5</td>\n",
       "      <td>184.0</td>\n",
       "      <td>0.00</td>\n",
       "      <td>NaN</td>\n",
       "      <td>Barrels O\\u2019 Fun is a simple but challengin...</td>\n",
       "      <td>BesqWare</td>\n",
       "      <td>4+</td>\n",
       "      <td>EN</td>\n",
       "      <td>1466515.0</td>\n",
       "      <td>Games</td>\n",
       "      <td>Games, Casual, Strategy</td>\n",
       "      <td>1/08/2008</td>\n",
       "      <td>1/08/2008</td>\n",
       "    </tr>\n",
       "    <tr>\n",
       "      <th>10</th>\n",
       "      <td>https://apps.apple.com/us/app/quaddraxx/id2875...</td>\n",
       "      <td>287563734</td>\n",
       "      <td>Quaddraxx</td>\n",
       "      <td>NaN</td>\n",
       "      <td>https://is5-ssl.mzstatic.com/image/thumb/Purpl...</td>\n",
       "      <td>NaN</td>\n",
       "      <td>NaN</td>\n",
       "      <td>0.00</td>\n",
       "      <td>NaN</td>\n",
       "      <td>Quaddraxx-Logic \\u2013 Challenge your brain!\\n...</td>\n",
       "      <td>H2F Informationssysteme GmbH</td>\n",
       "      <td>4+</td>\n",
       "      <td>EN</td>\n",
       "      <td>3089867.0</td>\n",
       "      <td>Games</td>\n",
       "      <td>Games, Entertainment, Strategy, Puzzle</td>\n",
       "      <td>11/08/2008</td>\n",
       "      <td>30/09/2008</td>\n",
       "    </tr>\n",
       "    <tr>\n",
       "      <th>11</th>\n",
       "      <td>https://apps.apple.com/us/app/lumen-lite/id288...</td>\n",
       "      <td>288096268</td>\n",
       "      <td>Lumen Lite</td>\n",
       "      <td>NaN</td>\n",
       "      <td>https://is1-ssl.mzstatic.com/image/thumb/Purpl...</td>\n",
       "      <td>3.5</td>\n",
       "      <td>5072.0</td>\n",
       "      <td>0.00</td>\n",
       "      <td>NaN</td>\n",
       "      <td>\"The objective of Lumen is to light up all the...</td>\n",
       "      <td>Bridger Maxwell</td>\n",
       "      <td>4+</td>\n",
       "      <td>EN</td>\n",
       "      <td>7086403.0</td>\n",
       "      <td>Games</td>\n",
       "      <td>Games, Puzzle, Strategy</td>\n",
       "      <td>18/08/2008</td>\n",
       "      <td>22/11/2008</td>\n",
       "    </tr>\n",
       "    <tr>\n",
       "      <th>12</th>\n",
       "      <td>https://apps.apple.com/us/app/bubblepop/id2886...</td>\n",
       "      <td>288669794</td>\n",
       "      <td>BubblePop</td>\n",
       "      <td>NaN</td>\n",
       "      <td>https://is2-ssl.mzstatic.com/image/thumb/Purpl...</td>\n",
       "      <td>3.0</td>\n",
       "      <td>526.0</td>\n",
       "      <td>0.00</td>\n",
       "      <td>NaN</td>\n",
       "      <td>Are you ready for some popping?  Once you pop ...</td>\n",
       "      <td>TMSOFT</td>\n",
       "      <td>4+</td>\n",
       "      <td>EN</td>\n",
       "      <td>845008.0</td>\n",
       "      <td>Games</td>\n",
       "      <td>Games, Strategy, Entertainment</td>\n",
       "      <td>22/08/2008</td>\n",
       "      <td>25/07/2009</td>\n",
       "    </tr>\n",
       "    <tr>\n",
       "      <th>13</th>\n",
       "      <td>https://apps.apple.com/us/app/marple/id288689440</td>\n",
       "      <td>288689440</td>\n",
       "      <td>Marple</td>\n",
       "      <td>NaN</td>\n",
       "      <td>https://is3-ssl.mzstatic.com/image/thumb/Purpl...</td>\n",
       "      <td>3.5</td>\n",
       "      <td>989.0</td>\n",
       "      <td>0.99</td>\n",
       "      <td>NaN</td>\n",
       "      <td>AWARDED \"BEST PUZZLER\" IN MACWORLD\\'S \"THE BES...</td>\n",
       "      <td>Mikko Kankainen</td>\n",
       "      <td>4+</td>\n",
       "      <td>EN</td>\n",
       "      <td>3643392.0</td>\n",
       "      <td>Games</td>\n",
       "      <td>Games, Puzzle, Strategy</td>\n",
       "      <td>28/08/2008</td>\n",
       "      <td>5/05/2019</td>\n",
       "    </tr>\n",
       "    <tr>\n",
       "      <th>14</th>\n",
       "      <td>https://apps.apple.com/us/app/tetravex-lite/id...</td>\n",
       "      <td>288918962</td>\n",
       "      <td>Tetravex Lite</td>\n",
       "      <td>NaN</td>\n",
       "      <td>https://is3-ssl.mzstatic.com/image/thumb/Purpl...</td>\n",
       "      <td>2.5</td>\n",
       "      <td>2358.0</td>\n",
       "      <td>0.00</td>\n",
       "      <td>NaN</td>\n",
       "      <td>Play the classic edge matching puzzle game Tet...</td>\n",
       "      <td>Futrell Software</td>\n",
       "      <td>4+</td>\n",
       "      <td>EN</td>\n",
       "      <td>731525.0</td>\n",
       "      <td>Games</td>\n",
       "      <td>Games, Puzzle, Strategy, Entertainment</td>\n",
       "      <td>27/08/2008</td>\n",
       "      <td>21/10/2008</td>\n",
       "    </tr>\n",
       "    <tr>\n",
       "      <th>15</th>\n",
       "      <td>https://apps.apple.com/us/app/awele-oware-manc...</td>\n",
       "      <td>289217958</td>\n",
       "      <td>Awele/Oware - Mancala HD</td>\n",
       "      <td>NaN</td>\n",
       "      <td>https://is3-ssl.mzstatic.com/image/thumb/Purpl...</td>\n",
       "      <td>3.0</td>\n",
       "      <td>112.0</td>\n",
       "      <td>0.00</td>\n",
       "      <td>0.99</td>\n",
       "      <td>Awele/Oware is the oldest African board game a...</td>\n",
       "      <td>SOLILAB</td>\n",
       "      <td>4+</td>\n",
       "      <td>EN, FR, DE, IT, ES</td>\n",
       "      <td>122826752.0</td>\n",
       "      <td>Games</td>\n",
       "      <td>Games, Strategy, Board</td>\n",
       "      <td>31/08/2008</td>\n",
       "      <td>6/04/2015</td>\n",
       "    </tr>\n",
       "    <tr>\n",
       "      <th>16</th>\n",
       "      <td>https://apps.apple.com/us/app/awele-oware-manc...</td>\n",
       "      <td>289217958</td>\n",
       "      <td>Awele/Oware - Mancala HD</td>\n",
       "      <td>NaN</td>\n",
       "      <td>https://is3-ssl.mzstatic.com/image/thumb/Purpl...</td>\n",
       "      <td>3.0</td>\n",
       "      <td>112.0</td>\n",
       "      <td>0.00</td>\n",
       "      <td>0.99</td>\n",
       "      <td>Awele/Oware is the oldest African board game a...</td>\n",
       "      <td>SOLILAB</td>\n",
       "      <td>4+</td>\n",
       "      <td>EN, FR, DE, IT, ES</td>\n",
       "      <td>122826752.0</td>\n",
       "      <td>Games</td>\n",
       "      <td>Games, Strategy, Board</td>\n",
       "      <td>31/08/2008</td>\n",
       "      <td>6/04/2015</td>\n",
       "    </tr>\n",
       "    <tr>\n",
       "      <th>17</th>\n",
       "      <td>https://apps.apple.com/us/app/chess-game/id289...</td>\n",
       "      <td>289382458</td>\n",
       "      <td>Chess Game</td>\n",
       "      <td>NaN</td>\n",
       "      <td>https://is2-ssl.mzstatic.com/image/thumb/Purpl...</td>\n",
       "      <td>3.0</td>\n",
       "      <td>504.0</td>\n",
       "      <td>0.00</td>\n",
       "      <td>NaN</td>\n",
       "      <td>\"How about a nice game of chess?\" -- Joshua, i...</td>\n",
       "      <td>Memention Holding AB</td>\n",
       "      <td>4+</td>\n",
       "      <td>EN</td>\n",
       "      <td>444163.0</td>\n",
       "      <td>Games</td>\n",
       "      <td>Games, Board, Strategy</td>\n",
       "      <td>2/09/2008</td>\n",
       "      <td>7/10/2009</td>\n",
       "    </tr>\n",
       "    <tr>\n",
       "      <th>18</th>\n",
       "      <td>https://apps.apple.com/us/app/catcha-mouse/id2...</td>\n",
       "      <td>290493286</td>\n",
       "      <td>Catcha Mouse</td>\n",
       "      <td>NaN</td>\n",
       "      <td>https://is1-ssl.mzstatic.com/image/thumb/Purpl...</td>\n",
       "      <td>3.5</td>\n",
       "      <td>95971.0</td>\n",
       "      <td>0.00</td>\n",
       "      <td>1.99, 0.99, 1.99, 0.99, 4.99, 1.99, 1.99</td>\n",
       "      <td>*More than 4 Million downloads!!!\\n\\n#1 iPhone...</td>\n",
       "      <td>Meme, Inc</td>\n",
       "      <td>4+</td>\n",
       "      <td>EN</td>\n",
       "      <td>26820692.0</td>\n",
       "      <td>Games</td>\n",
       "      <td>Games, Puzzle, Strategy</td>\n",
       "      <td>19/02/2009</td>\n",
       "      <td>26/04/2013</td>\n",
       "    </tr>\n",
       "    <tr>\n",
       "      <th>19</th>\n",
       "      <td>https://apps.apple.com/us/app/cool-sudoku-jigs...</td>\n",
       "      <td>290614255</td>\n",
       "      <td>Cool Sudoku, Jigsaw, Killer</td>\n",
       "      <td>Sudoku, Jigsaw, Killer, Kakuro</td>\n",
       "      <td>https://is5-ssl.mzstatic.com/image/thumb/Purpl...</td>\n",
       "      <td>3.5</td>\n",
       "      <td>357.0</td>\n",
       "      <td>0.00</td>\n",
       "      <td>0.99, 0.99, 0.99</td>\n",
       "      <td>You can now play Sudoku, Killer Sudoku, Jigsaw...</td>\n",
       "      <td>Splash Software Ltd.</td>\n",
       "      <td>4+</td>\n",
       "      <td>EN</td>\n",
       "      <td>52236288.0</td>\n",
       "      <td>Games</td>\n",
       "      <td>Games, Strategy, Puzzle, Entertainment</td>\n",
       "      <td>24/09/2008</td>\n",
       "      <td>26/04/2019</td>\n",
       "    </tr>\n",
       "  </tbody>\n",
       "</table>\n",
       "</div>"
      ],
      "text/plain": [
       "                                                  URL         ID  \\\n",
       "0    https://apps.apple.com/us/app/sudoku/id284921427  284921427   \n",
       "1   https://apps.apple.com/us/app/reversi/id284926400  284926400   \n",
       "2   https://apps.apple.com/us/app/morocco/id284946595  284946595   \n",
       "3   https://apps.apple.com/us/app/sudoku-free/id28...  285755462   \n",
       "4   https://apps.apple.com/us/app/senet-deluxe/id2...  285831220   \n",
       "5   https://apps.apple.com/us/app/sudoku-classic-n...  286210009   \n",
       "6   https://apps.apple.com/us/app/gravitation/id28...  286313771   \n",
       "7    https://apps.apple.com/us/app/colony/id286363959  286363959   \n",
       "8     https://apps.apple.com/us/app/carte/id286566987  286566987   \n",
       "9   https://apps.apple.com/us/app/barrels-o-fun/id...  286682679   \n",
       "10  https://apps.apple.com/us/app/quaddraxx/id2875...  287563734   \n",
       "11  https://apps.apple.com/us/app/lumen-lite/id288...  288096268   \n",
       "12  https://apps.apple.com/us/app/bubblepop/id2886...  288669794   \n",
       "13   https://apps.apple.com/us/app/marple/id288689440  288689440   \n",
       "14  https://apps.apple.com/us/app/tetravex-lite/id...  288918962   \n",
       "15  https://apps.apple.com/us/app/awele-oware-manc...  289217958   \n",
       "16  https://apps.apple.com/us/app/awele-oware-manc...  289217958   \n",
       "17  https://apps.apple.com/us/app/chess-game/id289...  289382458   \n",
       "18  https://apps.apple.com/us/app/catcha-mouse/id2...  290493286   \n",
       "19  https://apps.apple.com/us/app/cool-sudoku-jigs...  290614255   \n",
       "\n",
       "                              Name                        Subtitle  \\\n",
       "0                           Sudoku                             NaN   \n",
       "1                          Reversi                             NaN   \n",
       "2                          Morocco                             NaN   \n",
       "3                    Sudoku (Free)                             NaN   \n",
       "4                     Senet Deluxe                             NaN   \n",
       "5   Sudoku - Classic number puzzle         Original brain training   \n",
       "6                      Gravitation                             NaN   \n",
       "7                           Colony                             NaN   \n",
       "8                            Carte                             NaN   \n",
       "9                 \"Barrels O' Fun\"                             NaN   \n",
       "10                       Quaddraxx                             NaN   \n",
       "11                      Lumen Lite                             NaN   \n",
       "12                       BubblePop                             NaN   \n",
       "13                          Marple                             NaN   \n",
       "14                   Tetravex Lite                             NaN   \n",
       "15        Awele/Oware - Mancala HD                             NaN   \n",
       "16        Awele/Oware - Mancala HD                             NaN   \n",
       "17                      Chess Game                             NaN   \n",
       "18                    Catcha Mouse                             NaN   \n",
       "19     Cool Sudoku, Jigsaw, Killer  Sudoku, Jigsaw, Killer, Kakuro   \n",
       "\n",
       "                                             Icon URL  Average User Rating  \\\n",
       "0   https://is2-ssl.mzstatic.com/image/thumb/Purpl...                  4.0   \n",
       "1   https://is4-ssl.mzstatic.com/image/thumb/Purpl...                  3.5   \n",
       "2   https://is5-ssl.mzstatic.com/image/thumb/Purpl...                  3.0   \n",
       "3   https://is3-ssl.mzstatic.com/image/thumb/Purpl...                  3.5   \n",
       "4   https://is1-ssl.mzstatic.com/image/thumb/Purpl...                  3.5   \n",
       "5   https://is1-ssl.mzstatic.com/image/thumb/Purpl...                  3.0   \n",
       "6   https://is5-ssl.mzstatic.com/image/thumb/Purpl...                  2.5   \n",
       "7   https://is5-ssl.mzstatic.com/image/thumb/Purpl...                  2.5   \n",
       "8   https://is3-ssl.mzstatic.com/image/thumb/Purpl...                  2.5   \n",
       "9   https://is4-ssl.mzstatic.com/image/thumb/Purpl...                  2.5   \n",
       "10  https://is5-ssl.mzstatic.com/image/thumb/Purpl...                  NaN   \n",
       "11  https://is1-ssl.mzstatic.com/image/thumb/Purpl...                  3.5   \n",
       "12  https://is2-ssl.mzstatic.com/image/thumb/Purpl...                  3.0   \n",
       "13  https://is3-ssl.mzstatic.com/image/thumb/Purpl...                  3.5   \n",
       "14  https://is3-ssl.mzstatic.com/image/thumb/Purpl...                  2.5   \n",
       "15  https://is3-ssl.mzstatic.com/image/thumb/Purpl...                  3.0   \n",
       "16  https://is3-ssl.mzstatic.com/image/thumb/Purpl...                  3.0   \n",
       "17  https://is2-ssl.mzstatic.com/image/thumb/Purpl...                  3.0   \n",
       "18  https://is1-ssl.mzstatic.com/image/thumb/Purpl...                  3.5   \n",
       "19  https://is5-ssl.mzstatic.com/image/thumb/Purpl...                  3.5   \n",
       "\n",
       "    User Rating Count  Price                          In-app Purchases  \\\n",
       "0              3553.0   2.99                                       NaN   \n",
       "1               284.0   1.99                                       NaN   \n",
       "2              8376.0   0.00                                       NaN   \n",
       "3            190394.0   0.00                                       NaN   \n",
       "4                28.0   2.99                                       NaN   \n",
       "5                47.0   0.00                                      1.99   \n",
       "6                35.0   0.00                                       NaN   \n",
       "7               125.0   0.99                                       NaN   \n",
       "8                44.0   0.00                                       NaN   \n",
       "9               184.0   0.00                                       NaN   \n",
       "10                NaN   0.00                                       NaN   \n",
       "11             5072.0   0.00                                       NaN   \n",
       "12              526.0   0.00                                       NaN   \n",
       "13              989.0   0.99                                       NaN   \n",
       "14             2358.0   0.00                                       NaN   \n",
       "15              112.0   0.00                                      0.99   \n",
       "16              112.0   0.00                                      0.99   \n",
       "17              504.0   0.00                                       NaN   \n",
       "18            95971.0   0.00  1.99, 0.99, 1.99, 0.99, 4.99, 1.99, 1.99   \n",
       "19              357.0   0.00                          0.99, 0.99, 0.99   \n",
       "\n",
       "                                          Description  \\\n",
       "0   Join over 21,000,000 of our fans and download ...   \n",
       "1   The classic game of Reversi, also known as Oth...   \n",
       "2   Play the classic strategy game Othello (also k...   \n",
       "3   Top 100 free app for over a year.\\nRated \"Best...   \n",
       "4   \"Senet Deluxe - The Ancient Game of Life and A...   \n",
       "5   Sudoku will tease your brain, challenge you or...   \n",
       "6   \"Gravitation is a new implementation of the pu...   \n",
       "7   \"50 levels of addictive puzzling strategy fun!...   \n",
       "8   \"Jeu simple qui consiste \\xe0 trouver comment ...   \n",
       "9   Barrels O\\u2019 Fun is a simple but challengin...   \n",
       "10  Quaddraxx-Logic \\u2013 Challenge your brain!\\n...   \n",
       "11  \"The objective of Lumen is to light up all the...   \n",
       "12  Are you ready for some popping?  Once you pop ...   \n",
       "13  AWARDED \"BEST PUZZLER\" IN MACWORLD\\'S \"THE BES...   \n",
       "14  Play the classic edge matching puzzle game Tet...   \n",
       "15  Awele/Oware is the oldest African board game a...   \n",
       "16  Awele/Oware is the oldest African board game a...   \n",
       "17  \"How about a nice game of chess?\" -- Joshua, i...   \n",
       "18  *More than 4 Million downloads!!!\\n\\n#1 iPhone...   \n",
       "19  You can now play Sudoku, Killer Sudoku, Jigsaw...   \n",
       "\n",
       "                       Developer Age Rating  \\\n",
       "0       Mighty Mighty Good Games         4+   \n",
       "1               Kiss The Machine         4+   \n",
       "2                    Bayou Games         4+   \n",
       "3       Mighty Mighty Good Games         4+   \n",
       "4                RoGame Software         4+   \n",
       "5                OutOfTheBit Ltd         4+   \n",
       "6                  Robert Farnum         4+   \n",
       "7                   Chris Haynes         4+   \n",
       "8           Jean-Francois Pautex         4+   \n",
       "9                       BesqWare         4+   \n",
       "10  H2F Informationssysteme GmbH         4+   \n",
       "11               Bridger Maxwell         4+   \n",
       "12                        TMSOFT         4+   \n",
       "13               Mikko Kankainen         4+   \n",
       "14              Futrell Software         4+   \n",
       "15                       SOLILAB         4+   \n",
       "16                       SOLILAB         4+   \n",
       "17          Memention Holding AB         4+   \n",
       "18                     Meme, Inc         4+   \n",
       "19          Splash Software Ltd.         4+   \n",
       "\n",
       "                                            Languages         Size  \\\n",
       "0   DA, NL, EN, FI, FR, DE, IT, JA, KO, NB, PL, PT...   15853568.0   \n",
       "1                                                  EN   12328960.0   \n",
       "2                                                  EN     674816.0   \n",
       "3   DA, NL, EN, FI, FR, DE, IT, JA, KO, NB, PL, PT...   21552128.0   \n",
       "4   DA, NL, EN, FR, DE, EL, IT, JA, KO, NO, PT, RU...   34689024.0   \n",
       "5                                                  EN   48672768.0   \n",
       "6                                                 NaN    6328320.0   \n",
       "7                                                  EN   64333824.0   \n",
       "8                                                  FR    2657280.0   \n",
       "9                                                  EN    1466515.0   \n",
       "10                                                 EN    3089867.0   \n",
       "11                                                 EN    7086403.0   \n",
       "12                                                 EN     845008.0   \n",
       "13                                                 EN    3643392.0   \n",
       "14                                                 EN     731525.0   \n",
       "15                                 EN, FR, DE, IT, ES  122826752.0   \n",
       "16                                 EN, FR, DE, IT, ES  122826752.0   \n",
       "17                                                 EN     444163.0   \n",
       "18                                                 EN   26820692.0   \n",
       "19                                                 EN   52236288.0   \n",
       "\n",
       "   Primary Genre                                  Genres  \\\n",
       "0          Games                 Games, Strategy, Puzzle   \n",
       "1          Games                  Games, Strategy, Board   \n",
       "2          Games                  Games, Board, Strategy   \n",
       "3          Games                 Games, Strategy, Puzzle   \n",
       "4          Games       Games, Strategy, Board, Education   \n",
       "5          Games  Games, Entertainment, Strategy, Puzzle   \n",
       "6          Games  Games, Entertainment, Puzzle, Strategy   \n",
       "7          Games                  Games, Strategy, Board   \n",
       "8          Games   Games, Strategy, Board, Entertainment   \n",
       "9          Games                 Games, Casual, Strategy   \n",
       "10         Games  Games, Entertainment, Strategy, Puzzle   \n",
       "11         Games                 Games, Puzzle, Strategy   \n",
       "12         Games          Games, Strategy, Entertainment   \n",
       "13         Games                 Games, Puzzle, Strategy   \n",
       "14         Games  Games, Puzzle, Strategy, Entertainment   \n",
       "15         Games                  Games, Strategy, Board   \n",
       "16         Games                  Games, Strategy, Board   \n",
       "17         Games                  Games, Board, Strategy   \n",
       "18         Games                 Games, Puzzle, Strategy   \n",
       "19         Games  Games, Strategy, Puzzle, Entertainment   \n",
       "\n",
       "   Original Release Date Current Version Release Date  \n",
       "0             11/07/2008                   30/05/2017  \n",
       "1             11/07/2008                   17/05/2018  \n",
       "2             11/07/2008                    5/09/2017  \n",
       "3             23/07/2008                   30/05/2017  \n",
       "4             18/07/2008                   22/07/2018  \n",
       "5             30/07/2008                   29/04/2019  \n",
       "6             30/07/2008                   14/11/2013  \n",
       "7              3/08/2008                    3/10/2018  \n",
       "8              3/08/2008                   23/11/2017  \n",
       "9              1/08/2008                    1/08/2008  \n",
       "10            11/08/2008                   30/09/2008  \n",
       "11            18/08/2008                   22/11/2008  \n",
       "12            22/08/2008                   25/07/2009  \n",
       "13            28/08/2008                    5/05/2019  \n",
       "14            27/08/2008                   21/10/2008  \n",
       "15            31/08/2008                    6/04/2015  \n",
       "16            31/08/2008                    6/04/2015  \n",
       "17             2/09/2008                    7/10/2009  \n",
       "18            19/02/2009                   26/04/2013  \n",
       "19            24/09/2008                   26/04/2019  "
      ]
     },
     "execution_count": 3,
     "metadata": {},
     "output_type": "execute_result"
    }
   ],
   "source": [
    "df.head(20)"
   ]
  },
  {
   "cell_type": "code",
   "execution_count": 4,
   "metadata": {},
   "outputs": [
    {
     "data": {
      "text/plain": [
       "(17007, 18)"
      ]
     },
     "execution_count": 4,
     "metadata": {},
     "output_type": "execute_result"
    }
   ],
   "source": [
    "df.shape"
   ]
  },
  {
   "cell_type": "code",
   "execution_count": 5,
   "metadata": {},
   "outputs": [
    {
     "data": {
      "text/plain": [
       "URL                              object\n",
       "ID                                int64\n",
       "Name                             object\n",
       "Subtitle                         object\n",
       "Icon URL                         object\n",
       "Average User Rating             float64\n",
       "User Rating Count               float64\n",
       "Price                           float64\n",
       "In-app Purchases                 object\n",
       "Description                      object\n",
       "Developer                        object\n",
       "Age Rating                       object\n",
       "Languages                        object\n",
       "Size                            float64\n",
       "Primary Genre                    object\n",
       "Genres                           object\n",
       "Original Release Date            object\n",
       "Current Version Release Date     object\n",
       "dtype: object"
      ]
     },
     "execution_count": 5,
     "metadata": {},
     "output_type": "execute_result"
    }
   ],
   "source": [
    "df.dtypes"
   ]
  },
  {
   "cell_type": "code",
   "execution_count": 6,
   "metadata": {},
   "outputs": [
    {
     "data": {
      "text/plain": [
       "URL                             0.000000\n",
       "ID                              0.000000\n",
       "Name                            0.000000\n",
       "Subtitle                        0.690657\n",
       "Icon URL                        0.000000\n",
       "Average User Rating             0.555418\n",
       "User Rating Count               0.555418\n",
       "Price                           0.001411\n",
       "In-app Purchases                0.548245\n",
       "Description                     0.000000\n",
       "Developer                       0.000000\n",
       "Age Rating                      0.000000\n",
       "Languages                       0.003528\n",
       "Size                            0.000059\n",
       "Primary Genre                   0.000000\n",
       "Genres                          0.000000\n",
       "Original Release Date           0.000000\n",
       "Current Version Release Date    0.000000\n",
       "dtype: float64"
      ]
     },
     "execution_count": 6,
     "metadata": {},
     "output_type": "execute_result"
    }
   ],
   "source": [
    "#percentage of null values in the variables\n",
    "(df.isnull().sum())/(17007)"
   ]
  },
  {
   "cell_type": "code",
   "execution_count": 7,
   "metadata": {},
   "outputs": [
    {
     "data": {
      "text/plain": [
       "Index(['URL', 'ID', 'Name', 'Subtitle', 'Icon URL', 'Average User Rating',\n",
       "       'User Rating Count', 'Price', 'In-app Purchases', 'Description',\n",
       "       'Developer', 'Age Rating', 'Languages', 'Size', 'Primary Genre',\n",
       "       'Genres', 'Original Release Date', 'Current Version Release Date'],\n",
       "      dtype='object')"
      ]
     },
     "execution_count": 7,
     "metadata": {},
     "output_type": "execute_result"
    }
   ],
   "source": [
    "df.columns"
   ]
  },
  {
   "cell_type": "code",
   "execution_count": 10,
   "metadata": {},
   "outputs": [
    {
     "data": {
      "text/plain": [
       "Games                16286\n",
       "Education              222\n",
       "Entertainment          198\n",
       "Utilities               77\n",
       "Sports                  60\n",
       "Reference               32\n",
       "Stickers                29\n",
       "Finance                 18\n",
       "Business                16\n",
       "Productivity            15\n",
       "Lifestyle               10\n",
       "Social Networking        9\n",
       "Book                     9\n",
       "News                     7\n",
       "Health & Fitness         5\n",
       "Food & Drink             4\n",
       "Navigation               3\n",
       "Music                    3\n",
       "Medical                  2\n",
       "Shopping                 1\n",
       "Travel                   1\n",
       "Name: Primary Genre, dtype: int64"
      ]
     },
     "execution_count": 10,
     "metadata": {},
     "output_type": "execute_result"
    }
   ],
   "source": [
    "df['Primary Genre'].value_counts()"
   ]
  },
  {
   "cell_type": "code",
   "execution_count": 12,
   "metadata": {},
   "outputs": [
    {
     "data": {
      "text/plain": [
       "17007"
      ]
     },
     "execution_count": 12,
     "metadata": {},
     "output_type": "execute_result"
    }
   ],
   "source": [
    "df['Genres'].value_counts().sum()"
   ]
  },
  {
   "cell_type": "code",
   "execution_count": 8,
   "metadata": {},
   "outputs": [
    {
     "data": {
      "text/plain": [
       "14"
      ]
     },
     "execution_count": 8,
     "metadata": {},
     "output_type": "execute_result"
    }
   ],
   "source": [
    "(df['In-app Purchases']=='0').sum()"
   ]
  },
  {
   "cell_type": "code",
   "execution_count": 13,
   "metadata": {},
   "outputs": [],
   "source": [
    "dummy = pd.get_dummies(df['Primary Genre'])\n",
    "df = df.merge(dummy, left_index=True, right_index=True)\n"
   ]
  },
  {
   "cell_type": "code",
   "execution_count": 14,
   "metadata": {},
   "outputs": [
    {
     "data": {
      "text/plain": [
       "(17007, 39)"
      ]
     },
     "execution_count": 14,
     "metadata": {},
     "output_type": "execute_result"
    }
   ],
   "source": [
    "df.shape"
   ]
  },
  {
   "cell_type": "code",
   "execution_count": 18,
   "metadata": {},
   "outputs": [
    {
     "data": {
      "text/plain": [
       "URL                              object\n",
       "ID                                int64\n",
       "Name                             object\n",
       "Subtitle                         object\n",
       "Icon URL                         object\n",
       "Average User Rating             float64\n",
       "User Rating Count               float64\n",
       "Price                           float64\n",
       "In-app Purchases                 object\n",
       "Description                      object\n",
       "Developer                        object\n",
       "Age Rating                       object\n",
       "Languages                        object\n",
       "Size                            float64\n",
       "Primary Genre                    object\n",
       "Genres                           object\n",
       "Original Release Date            object\n",
       "Current Version Release Date     object\n",
       "Book                              uint8\n",
       "Business                          uint8\n",
       "Education                         uint8\n",
       "Entertainment                     uint8\n",
       "Finance                           uint8\n",
       "Food & Drink                      uint8\n",
       "Games                             uint8\n",
       "Health & Fitness                  uint8\n",
       "Lifestyle                         uint8\n",
       "Medical                           uint8\n",
       "Music                             uint8\n",
       "Navigation                        uint8\n",
       "News                              uint8\n",
       "Productivity                      uint8\n",
       "Reference                         uint8\n",
       "Shopping                          uint8\n",
       "Social Networking                 uint8\n",
       "Sports                            uint8\n",
       "Stickers                          uint8\n",
       "Travel                            uint8\n",
       "Utilities                         uint8\n",
       "dtype: object"
      ]
     },
     "execution_count": 18,
     "metadata": {},
     "output_type": "execute_result"
    }
   ],
   "source": [
    "df.dtypes"
   ]
  },
  {
   "cell_type": "code",
   "execution_count": 19,
   "metadata": {},
   "outputs": [
    {
     "data": {
      "text/plain": [
       "Index(['URL', 'ID', 'Name', 'Subtitle', 'Icon URL', 'Average User Rating',\n",
       "       'User Rating Count', 'Price', 'In-app Purchases', 'Description',\n",
       "       'Developer', 'Age Rating', 'Languages', 'Size', 'Primary Genre',\n",
       "       'Genres', 'Original Release Date', 'Current Version Release Date',\n",
       "       'Book', 'Business', 'Education', 'Entertainment', 'Finance',\n",
       "       'Food & Drink', 'Games', 'Health & Fitness', 'Lifestyle', 'Medical',\n",
       "       'Music', 'Navigation', 'News', 'Productivity', 'Reference', 'Shopping',\n",
       "       'Social Networking', 'Sports', 'Stickers', 'Travel', 'Utilities'],\n",
       "      dtype='object')"
      ]
     },
     "execution_count": 19,
     "metadata": {},
     "output_type": "execute_result"
    }
   ],
   "source": [
    "df.columns"
   ]
  },
  {
   "cell_type": "code",
   "execution_count": 22,
   "metadata": {},
   "outputs": [
    {
     "data": {
      "text/plain": [
       "4.5    2861\n",
       "4.0    1722\n",
       "5.0     990\n",
       "3.5     925\n",
       "3.0     514\n",
       "2.5     317\n",
       "2.0     158\n",
       "1.5      60\n",
       "1.0      14\n",
       "Name: Average User Rating, dtype: int64"
      ]
     },
     "execution_count": 22,
     "metadata": {},
     "output_type": "execute_result"
    }
   ],
   "source": [
    "df['Average User Rating'].value_counts()"
   ]
  },
  {
   "cell_type": "code",
   "execution_count": 43,
   "metadata": {},
   "outputs": [],
   "source": [
    "df['Average User Rating'].fillna(0, inplace=True)"
   ]
  },
  {
   "cell_type": "code",
   "execution_count": 44,
   "metadata": {},
   "outputs": [
    {
     "data": {
      "text/plain": [
       "0.0    9446\n",
       "4.5    2861\n",
       "4.0    1722\n",
       "5.0     990\n",
       "3.5     925\n",
       "3.0     514\n",
       "2.5     317\n",
       "2.0     158\n",
       "1.5      60\n",
       "1.0      14\n",
       "Name: Average User Rating, dtype: int64"
      ]
     },
     "execution_count": 44,
     "metadata": {},
     "output_type": "execute_result"
    }
   ],
   "source": [
    "df['Average User Rating'].value_counts()"
   ]
  },
  {
   "cell_type": "code",
   "execution_count": 46,
   "metadata": {},
   "outputs": [],
   "source": [
    "df['User Rating Count'].fillna(0, inplace=True)"
   ]
  },
  {
   "cell_type": "code",
   "execution_count": 53,
   "metadata": {},
   "outputs": [
    {
     "data": {
      "text/plain": [
       "24"
      ]
     },
     "execution_count": 53,
     "metadata": {},
     "output_type": "execute_result"
    }
   ],
   "source": [
    "df.Price.isnull().sum()"
   ]
  },
  {
   "cell_type": "code",
   "execution_count": 54,
   "metadata": {},
   "outputs": [],
   "source": [
    "df['Price'].fillna(0, inplace=True)"
   ]
  },
  {
   "cell_type": "code",
   "execution_count": 62,
   "metadata": {},
   "outputs": [],
   "source": [
    "from sklearn.ensemble import RandomForestClassifier\n"
   ]
  },
  {
   "cell_type": "code",
   "execution_count": 64,
   "metadata": {},
   "outputs": [],
   "source": [
    "from sklearn.model_selection import train_test_split\n",
    "\n",
    "# Establish X and Y.\n",
    "X = df[['Average User Rating', 'Price', 'Book', 'Business', 'Education',\n",
    "        'Entertainment', 'Finance', 'Food & Drink', 'Games',\n",
    "        'Health & Fitness', 'Lifestyle', 'Medical', 'Music', 'Navigation',\n",
    "        'News', 'Productivity', 'Reference', 'Shopping', 'Social Networking', \n",
    "        'Sports', 'Stickers', 'Travel', 'Utilities']]\n",
    "y = df['User Rating Count']\n",
    "\n",
    "\n",
    "X_train, X_test, y_train, y_test = train_test_split(\n",
    "    X, y, test_size=0.2, random_state=20)\n",
    "\n",
    "\n"
   ]
  },
  {
   "cell_type": "code",
   "execution_count": 65,
   "metadata": {},
   "outputs": [],
   "source": [
    "rfc = RandomForestClassifier(n_estimators=70, random_state = 42,\n",
    "                            min_samples_leaf =100)"
   ]
  },
  {
   "cell_type": "code",
   "execution_count": 68,
   "metadata": {},
   "outputs": [
    {
     "name": "stdout",
     "output_type": "stream",
     "text": [
      "With 20% Holdout: 0.5631981187536743\n",
      "Testing on Sample: 0.5554183571470571\n"
     ]
    }
   ],
   "source": [
    "rfc.fit(X_train, y_train)\n",
    "y_pred = rfc.predict(X_test)\n",
    "\n",
    "print('With 20% Holdout: ' + str(rfc.fit(X_train, y_train).score(X_test, y_test)))\n",
    "print('Testing on Sample: ' + str(rfc.fit(X, y).score(X, y)))"
   ]
  },
  {
   "cell_type": "code",
   "execution_count": 58,
   "metadata": {},
   "outputs": [
    {
     "name": "stdout",
     "output_type": "stream",
     "text": [
      "Score: 0.5273710824954431\n"
     ]
    }
   ],
   "source": [
    "# Import Perceptron.\n",
    "from sklearn.linear_model import Perceptron\n",
    "\n",
    "\n",
    "# Establish Perceptron Model.\n",
    "# 10,000 iterations to ensure accuracy since data is non-normalized.\n",
    "perceptron = Perceptron()\n",
    "\n",
    "# Fit Perceptron.\n",
    "perceptron.fit(X, Y)\n",
    "\n",
    "# Get Parameters.\n",
    "print('Score: ' + str(perceptron.score(X, Y)))"
   ]
  },
  {
   "cell_type": "code",
   "execution_count": 71,
   "metadata": {},
   "outputs": [
    {
     "name": "stderr",
     "output_type": "stream",
     "text": [
      "C:\\Users\\test\\AppData\\Roaming\\Python\\Python37\\site-packages\\sklearn\\neural_network\\multilayer_perceptron.py:566: ConvergenceWarning: Stochastic Optimizer: Maximum iterations (50) reached and the optimization hasn't converged yet.\n",
      "  % self.max_iter, ConvergenceWarning)\n"
     ]
    },
    {
     "data": {
      "text/plain": [
       "MLPClassifier(activation='relu', alpha=0.0001, batch_size='auto', beta_1=0.9,\n",
       "              beta_2=0.999, early_stopping=False, epsilon=1e-08,\n",
       "              hidden_layer_sizes=(500,), learning_rate='constant',\n",
       "              learning_rate_init=0.001, max_iter=50, momentum=0.9,\n",
       "              n_iter_no_change=10, nesterovs_momentum=True, power_t=0.5,\n",
       "              random_state=42, shuffle=True, solver='adam', tol=0.0001,\n",
       "              validation_fraction=0.1, verbose=False, warm_start=False)"
      ]
     },
     "execution_count": 71,
     "metadata": {},
     "output_type": "execute_result"
    }
   ],
   "source": [
    "# Import the model.\n",
    "from sklearn.neural_network import MLPClassifier\n",
    "\n",
    "# Establish and fit the model, with a single, 1000 perceptron layer.\n",
    "mlp = MLPClassifier(max_iter= 50, random_state = 42, hidden_layer_sizes=(500,))\n",
    "mlp.fit(X, Y)"
   ]
  },
  {
   "cell_type": "code",
   "execution_count": 72,
   "metadata": {},
   "outputs": [
    {
     "name": "stderr",
     "output_type": "stream",
     "text": [
      "C:\\Users\\test\\AppData\\Roaming\\Python\\Python37\\site-packages\\sklearn\\neural_network\\multilayer_perceptron.py:566: ConvergenceWarning: Stochastic Optimizer: Maximum iterations (100) reached and the optimization hasn't converged yet.\n",
      "  % self.max_iter, ConvergenceWarning)\n"
     ]
    },
    {
     "data": {
      "text/plain": [
       "MLPClassifier(activation='relu', alpha=0.0001, batch_size='auto', beta_1=0.9,\n",
       "              beta_2=0.999, early_stopping=False, epsilon=1e-08,\n",
       "              hidden_layer_sizes=(500,), learning_rate='constant',\n",
       "              learning_rate_init=0.001, max_iter=100, momentum=0.9,\n",
       "              n_iter_no_change=10, nesterovs_momentum=True, power_t=0.5,\n",
       "              random_state=42, shuffle=True, solver='adam', tol=0.0001,\n",
       "              validation_fraction=0.1, verbose=False, warm_start=False)"
      ]
     },
     "execution_count": 72,
     "metadata": {},
     "output_type": "execute_result"
    }
   ],
   "source": [
    "mlp = MLPClassifier(max_iter= 100, random_state = 42, hidden_layer_sizes=(500,))\n",
    "mlp.fit(X, Y)"
   ]
  },
  {
   "cell_type": "code",
   "execution_count": null,
   "metadata": {},
   "outputs": [],
   "source": []
  }
 ],
 "metadata": {
  "kernelspec": {
   "display_name": "Python 3",
   "language": "python",
   "name": "python3"
  },
  "language_info": {
   "codemirror_mode": {
    "name": "ipython",
    "version": 3
   },
   "file_extension": ".py",
   "mimetype": "text/x-python",
   "name": "python",
   "nbconvert_exporter": "python",
   "pygments_lexer": "ipython3",
   "version": "3.7.3"
  }
 },
 "nbformat": 4,
 "nbformat_minor": 2
}
